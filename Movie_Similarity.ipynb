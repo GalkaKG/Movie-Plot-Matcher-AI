{
 "cells": [
  {
   "cell_type": "code",
   "execution_count": 38,
   "id": "3d1a28ec-b22a-4817-9759-f0908524115d",
   "metadata": {},
   "outputs": [],
   "source": [
    "import pandas as pd\n",
    "import matplotlib.pyplot as plt"
   ]
  },
  {
   "cell_type": "markdown",
   "id": "6399b77b-d0c7-482a-bd8e-f36caa17c499",
   "metadata": {},
   "source": [
    "#### Data Acquisition\n",
    "The dataset is downloaded from Kaggle. It contains various columns, but for this project, the most relevant ones will be:\n",
    "\n",
    "__title__: The title of the movie/series. <br/>\n",
    "__description__: The plot summary of the movie/series."
   ]
  },
  {
   "cell_type": "code",
   "execution_count": 3,
   "id": "fbf5a747-fad0-44e3-b27c-ea760c67cfd2",
   "metadata": {},
   "outputs": [],
   "source": [
    "netflix_data = pd.read_csv('data/netflix_titles.csv')"
   ]
  },
  {
   "cell_type": "markdown",
   "id": "45baae39-633a-45ab-a9d2-d9da5ceaa59c",
   "metadata": {},
   "source": [
    "#### Data Exploration\n",
    "Explore the dataset to understand its structure, look for missing values, and get a sense of the distribution of the plot summaries. Use Pandas for this:"
   ]
  },
  {
   "cell_type": "code",
   "execution_count": 4,
   "id": "09d15aa9-e917-43db-9c03-82fc370827f3",
   "metadata": {},
   "outputs": [
    {
     "data": {
      "text/html": [
       "<div>\n",
       "<style scoped>\n",
       "    .dataframe tbody tr th:only-of-type {\n",
       "        vertical-align: middle;\n",
       "    }\n",
       "\n",
       "    .dataframe tbody tr th {\n",
       "        vertical-align: top;\n",
       "    }\n",
       "\n",
       "    .dataframe thead th {\n",
       "        text-align: right;\n",
       "    }\n",
       "</style>\n",
       "<table border=\"1\" class=\"dataframe\">\n",
       "  <thead>\n",
       "    <tr style=\"text-align: right;\">\n",
       "      <th></th>\n",
       "      <th>show_id</th>\n",
       "      <th>type</th>\n",
       "      <th>title</th>\n",
       "      <th>director</th>\n",
       "      <th>cast</th>\n",
       "      <th>country</th>\n",
       "      <th>date_added</th>\n",
       "      <th>release_year</th>\n",
       "      <th>rating</th>\n",
       "      <th>duration</th>\n",
       "      <th>listed_in</th>\n",
       "      <th>description</th>\n",
       "    </tr>\n",
       "  </thead>\n",
       "  <tbody>\n",
       "    <tr>\n",
       "      <th>0</th>\n",
       "      <td>s1</td>\n",
       "      <td>Movie</td>\n",
       "      <td>Dick Johnson Is Dead</td>\n",
       "      <td>Kirsten Johnson</td>\n",
       "      <td>NaN</td>\n",
       "      <td>United States</td>\n",
       "      <td>September 25, 2021</td>\n",
       "      <td>2020</td>\n",
       "      <td>PG-13</td>\n",
       "      <td>90 min</td>\n",
       "      <td>Documentaries</td>\n",
       "      <td>As her father nears the end of his life, filmm...</td>\n",
       "    </tr>\n",
       "    <tr>\n",
       "      <th>1</th>\n",
       "      <td>s2</td>\n",
       "      <td>TV Show</td>\n",
       "      <td>Blood &amp; Water</td>\n",
       "      <td>NaN</td>\n",
       "      <td>Ama Qamata, Khosi Ngema, Gail Mabalane, Thaban...</td>\n",
       "      <td>South Africa</td>\n",
       "      <td>September 24, 2021</td>\n",
       "      <td>2021</td>\n",
       "      <td>TV-MA</td>\n",
       "      <td>2 Seasons</td>\n",
       "      <td>International TV Shows, TV Dramas, TV Mysteries</td>\n",
       "      <td>After crossing paths at a party, a Cape Town t...</td>\n",
       "    </tr>\n",
       "    <tr>\n",
       "      <th>2</th>\n",
       "      <td>s3</td>\n",
       "      <td>TV Show</td>\n",
       "      <td>Ganglands</td>\n",
       "      <td>Julien Leclercq</td>\n",
       "      <td>Sami Bouajila, Tracy Gotoas, Samuel Jouy, Nabi...</td>\n",
       "      <td>NaN</td>\n",
       "      <td>September 24, 2021</td>\n",
       "      <td>2021</td>\n",
       "      <td>TV-MA</td>\n",
       "      <td>1 Season</td>\n",
       "      <td>Crime TV Shows, International TV Shows, TV Act...</td>\n",
       "      <td>To protect his family from a powerful drug lor...</td>\n",
       "    </tr>\n",
       "    <tr>\n",
       "      <th>3</th>\n",
       "      <td>s4</td>\n",
       "      <td>TV Show</td>\n",
       "      <td>Jailbirds New Orleans</td>\n",
       "      <td>NaN</td>\n",
       "      <td>NaN</td>\n",
       "      <td>NaN</td>\n",
       "      <td>September 24, 2021</td>\n",
       "      <td>2021</td>\n",
       "      <td>TV-MA</td>\n",
       "      <td>1 Season</td>\n",
       "      <td>Docuseries, Reality TV</td>\n",
       "      <td>Feuds, flirtations and toilet talk go down amo...</td>\n",
       "    </tr>\n",
       "    <tr>\n",
       "      <th>4</th>\n",
       "      <td>s5</td>\n",
       "      <td>TV Show</td>\n",
       "      <td>Kota Factory</td>\n",
       "      <td>NaN</td>\n",
       "      <td>Mayur More, Jitendra Kumar, Ranjan Raj, Alam K...</td>\n",
       "      <td>India</td>\n",
       "      <td>September 24, 2021</td>\n",
       "      <td>2021</td>\n",
       "      <td>TV-MA</td>\n",
       "      <td>2 Seasons</td>\n",
       "      <td>International TV Shows, Romantic TV Shows, TV ...</td>\n",
       "      <td>In a city of coaching centers known to train I...</td>\n",
       "    </tr>\n",
       "  </tbody>\n",
       "</table>\n",
       "</div>"
      ],
      "text/plain": [
       "  show_id     type                  title         director  \\\n",
       "0      s1    Movie   Dick Johnson Is Dead  Kirsten Johnson   \n",
       "1      s2  TV Show          Blood & Water              NaN   \n",
       "2      s3  TV Show              Ganglands  Julien Leclercq   \n",
       "3      s4  TV Show  Jailbirds New Orleans              NaN   \n",
       "4      s5  TV Show           Kota Factory              NaN   \n",
       "\n",
       "                                                cast        country  \\\n",
       "0                                                NaN  United States   \n",
       "1  Ama Qamata, Khosi Ngema, Gail Mabalane, Thaban...   South Africa   \n",
       "2  Sami Bouajila, Tracy Gotoas, Samuel Jouy, Nabi...            NaN   \n",
       "3                                                NaN            NaN   \n",
       "4  Mayur More, Jitendra Kumar, Ranjan Raj, Alam K...          India   \n",
       "\n",
       "           date_added  release_year rating   duration  \\\n",
       "0  September 25, 2021          2020  PG-13     90 min   \n",
       "1  September 24, 2021          2021  TV-MA  2 Seasons   \n",
       "2  September 24, 2021          2021  TV-MA   1 Season   \n",
       "3  September 24, 2021          2021  TV-MA   1 Season   \n",
       "4  September 24, 2021          2021  TV-MA  2 Seasons   \n",
       "\n",
       "                                           listed_in  \\\n",
       "0                                      Documentaries   \n",
       "1    International TV Shows, TV Dramas, TV Mysteries   \n",
       "2  Crime TV Shows, International TV Shows, TV Act...   \n",
       "3                             Docuseries, Reality TV   \n",
       "4  International TV Shows, Romantic TV Shows, TV ...   \n",
       "\n",
       "                                         description  \n",
       "0  As her father nears the end of his life, filmm...  \n",
       "1  After crossing paths at a party, a Cape Town t...  \n",
       "2  To protect his family from a powerful drug lor...  \n",
       "3  Feuds, flirtations and toilet talk go down amo...  \n",
       "4  In a city of coaching centers known to train I...  "
      ]
     },
     "execution_count": 4,
     "metadata": {},
     "output_type": "execute_result"
    }
   ],
   "source": [
    "netflix_data.head()"
   ]
  },
  {
   "cell_type": "code",
   "execution_count": 5,
   "id": "780a2337-eee4-43c7-80fe-237fbddfac01",
   "metadata": {},
   "outputs": [
    {
     "data": {
      "text/plain": [
       "Index(['show_id', 'type', 'title', 'director', 'cast', 'country', 'date_added',\n",
       "       'release_year', 'rating', 'duration', 'listed_in', 'description'],\n",
       "      dtype='object')"
      ]
     },
     "execution_count": 5,
     "metadata": {},
     "output_type": "execute_result"
    }
   ],
   "source": [
    "netflix_data.columns"
   ]
  },
  {
   "cell_type": "code",
   "execution_count": 8,
   "id": "c2f0c26c-24d0-48ae-984b-0a0734bd7ddc",
   "metadata": {},
   "outputs": [
    {
     "data": {
      "text/plain": [
       "0        Dick Johnson Is Dead\n",
       "1               Blood & Water\n",
       "2                   Ganglands\n",
       "3       Jailbirds New Orleans\n",
       "4                Kota Factory\n",
       "                ...          \n",
       "8802                   Zodiac\n",
       "8803              Zombie Dumb\n",
       "8804               Zombieland\n",
       "8805                     Zoom\n",
       "8806                   Zubaan\n",
       "Name: title, Length: 8807, dtype: object"
      ]
     },
     "execution_count": 8,
     "metadata": {},
     "output_type": "execute_result"
    }
   ],
   "source": [
    "netflix_data.title"
   ]
  },
  {
   "cell_type": "code",
   "execution_count": 15,
   "id": "277c4dce-7a8c-4901-9997-cf585ef3b7a8",
   "metadata": {},
   "outputs": [
    {
     "data": {
      "text/plain": [
       "show_id         object\n",
       "type            object\n",
       "title           object\n",
       "director        object\n",
       "cast            object\n",
       "country         object\n",
       "date_added      object\n",
       "release_year     int64\n",
       "rating          object\n",
       "duration        object\n",
       "listed_in       object\n",
       "description     object\n",
       "dtype: object"
      ]
     },
     "execution_count": 15,
     "metadata": {},
     "output_type": "execute_result"
    }
   ],
   "source": [
    "netflix_data.dtypes"
   ]
  },
  {
   "cell_type": "markdown",
   "id": "1ac93cde-f7d0-495a-b1ea-2272a800b4af",
   "metadata": {},
   "source": [
    "Check for missing values"
   ]
  },
  {
   "cell_type": "code",
   "execution_count": 6,
   "id": "7bcf35a9-0000-429d-a30f-77461e20b436",
   "metadata": {},
   "outputs": [
    {
     "data": {
      "text/plain": [
       "show_id            0\n",
       "type               0\n",
       "title              0\n",
       "director        2634\n",
       "cast             825\n",
       "country          831\n",
       "date_added        10\n",
       "release_year       0\n",
       "rating             4\n",
       "duration           3\n",
       "listed_in          0\n",
       "description        0\n",
       "dtype: int64"
      ]
     },
     "execution_count": 6,
     "metadata": {},
     "output_type": "execute_result"
    }
   ],
   "source": [
    "netflix_data.isnull().sum()"
   ]
  },
  {
   "cell_type": "code",
   "execution_count": 21,
   "id": "dc0d0d20-3cb5-4603-8ac9-f1b7920d435d",
   "metadata": {},
   "outputs": [
    {
     "data": {
      "text/plain": [
       "array(['PG-13', 'TV-MA', 'PG', 'TV-14', 'TV-PG', 'TV-Y', 'TV-Y7', 'R',\n",
       "       'TV-G', 'G', 'NC-17', '74 min', '84 min', '66 min', 'NR', nan,\n",
       "       'TV-Y7-FV', 'UR'], dtype=object)"
      ]
     },
     "execution_count": 21,
     "metadata": {},
     "output_type": "execute_result"
    }
   ],
   "source": [
    "netflix_data['rating'].unique()"
   ]
  },
  {
   "cell_type": "markdown",
   "id": "b46e57c0-bc8b-4062-87ac-0b117d42efd2",
   "metadata": {},
   "source": [
    "Replace the missing values with a placeholder like 'Unknown'"
   ]
  },
  {
   "cell_type": "code",
   "execution_count": 26,
   "id": "baec3b8a-56aa-43f9-888d-d2c20c1f4f86",
   "metadata": {},
   "outputs": [],
   "source": [
    "netflix_data['director'].fillna('Unknown', inplace=True)\n",
    "netflix_data['cast'].fillna('Unknown', inplace=True)\n",
    "netflix_data['country'].fillna('Unknown', inplace=True)\n",
    "netflix_data['date_added'].fillna('Unknown', inplace=True)\n",
    "netflix_data['duration'].fillna('Unknown', inplace=True)"
   ]
  },
  {
   "cell_type": "code",
   "execution_count": 27,
   "id": "e934688e-9a1c-4255-8106-083b761021e9",
   "metadata": {},
   "outputs": [
    {
     "data": {
      "text/plain": [
       "show_id         0\n",
       "type            0\n",
       "title           0\n",
       "director        0\n",
       "cast            0\n",
       "country         0\n",
       "date_added      0\n",
       "release_year    0\n",
       "rating          0\n",
       "duration        0\n",
       "listed_in       0\n",
       "description     0\n",
       "dtype: int64"
      ]
     },
     "execution_count": 27,
     "metadata": {},
     "output_type": "execute_result"
    }
   ],
   "source": [
    "netflix_data.isnull().sum()"
   ]
  },
  {
   "cell_type": "markdown",
   "id": "ec033f32-cea2-416e-aaf1-983ec6572cb9",
   "metadata": {},
   "source": [
    "#### Text Preprocessing\n",
    "Clean and preprocess the plot summaries to make them suitable for analysis. Typical preprocessing steps include:\n",
    "\n",
    "- Lowercasing the text.\n",
    "- Removing punctuation and special characters.\n",
    "- Tokenization (splitting the text into words).\n",
    "- Removing stop words (common words that do not contribute to meaning)."
   ]
  },
  {
   "cell_type": "code",
   "execution_count": 28,
   "id": "f0b9313f-2b0f-4b22-a9b0-509f55e2d7f3",
   "metadata": {},
   "outputs": [
    {
     "name": "stderr",
     "output_type": "stream",
     "text": [
      "[nltk_data] Downloading package punkt to\n",
      "[nltk_data]     C:\\Users\\ggeorgieva.HAEMIMONT\\AppData\\Roaming\\nltk_dat\n",
      "[nltk_data]     a...\n",
      "[nltk_data]   Package punkt is already up-to-date!\n",
      "[nltk_data] Downloading package stopwords to\n",
      "[nltk_data]     C:\\Users\\ggeorgieva.HAEMIMONT\\AppData\\Roaming\\nltk_dat\n",
      "[nltk_data]     a...\n",
      "[nltk_data]   Package stopwords is already up-to-date!\n"
     ]
    }
   ],
   "source": [
    "import re\n",
    "from nltk.corpus import stopwords\n",
    "from nltk.tokenize import word_tokenize\n",
    "\n",
    "# Download NLTK stopwords\n",
    "import nltk\n",
    "nltk.download('punkt')\n",
    "nltk.download('stopwords')\n",
    "\n",
    "def preprocess_text(text):\n",
    "    # Lowercase\n",
    "    text = text.lower()\n",
    "    # Remove punctuation\n",
    "    text = re.sub(r'[^\\w\\s]', '', text)\n",
    "    # Tokenization\n",
    "    words = word_tokenize(text)\n",
    "    # Remove stop words\n",
    "    words = [word for word in words if word not in stopwords.words('english')]\n",
    "    return ' '.join(words)\n",
    "\n",
    "# Apply preprocessing\n",
    "netflix_data['cleaned_description'] = netflix_data['description'].apply(preprocess_text)\n"
   ]
  },
  {
   "cell_type": "code",
   "execution_count": 29,
   "id": "f38802d1-4ebf-47eb-8a15-2f8df46735cf",
   "metadata": {},
   "outputs": [
    {
     "data": {
      "text/plain": [
       "0       father nears end life filmmaker kirsten johnso...\n",
       "1       crossing paths party cape town teen sets prove...\n",
       "2       protect family powerful drug lord skilled thie...\n",
       "3       feuds flirtations toilet talk go among incarce...\n",
       "4       city coaching centers known train indias fines...\n",
       "                              ...                        \n",
       "8802    political cartoonist crime reporter pair cops ...\n",
       "8803    living alone spooky town young girl befriends ...\n",
       "8804    looking survive world taken zombies dorky coll...\n",
       "8805    dragged civilian life former superhero must tr...\n",
       "8806    scrappy poor boy worms way tycoons dysfunction...\n",
       "Name: cleaned_description, Length: 8807, dtype: object"
      ]
     },
     "execution_count": 29,
     "metadata": {},
     "output_type": "execute_result"
    }
   ],
   "source": [
    "netflix_data['cleaned_description']"
   ]
  },
  {
   "cell_type": "markdown",
   "id": "14171d24-b092-4b69-8a7c-53b803f362dc",
   "metadata": {},
   "source": [
    "#### Feature Extraction\n",
    "Use a method to convert the plot summaries into numerical vectors that a machine learning model can understand. Common techniques include:\n",
    "\n",
    "- TF-IDF Vectorization: This method weighs the importance of words in each document relative to the entire corpus.\n",
    "- Word Embeddings: Using models like Word2Vec, GloVe, or even Sentence Transformers to capture the semantic meaning of the descriptions.\n",
    "Implementing TF-IDF:"
   ]
  },
  {
   "cell_type": "code",
   "execution_count": 30,
   "id": "f5e2bc98-c09a-4d32-8a06-9938409b7aad",
   "metadata": {},
   "outputs": [],
   "source": [
    "from sklearn.feature_extraction.text import TfidfVectorizer\n",
    "\n",
    "# Create a TF-IDF Vectorizer\n",
    "tfidf_vectorizer = TfidfVectorizer()\n",
    "tfidf_matrix = tfidf_vectorizer.fit_transform(netflix_data['cleaned_description'])"
   ]
  },
  {
   "cell_type": "code",
   "execution_count": 31,
   "id": "5df67237-449b-4cfd-a4dd-187ce258b172",
   "metadata": {},
   "outputs": [
    {
     "data": {
      "text/plain": [
       "<8807x20788 sparse matrix of type '<class 'numpy.float64'>'\n",
       "\twith 126668 stored elements in Compressed Sparse Row format>"
      ]
     },
     "execution_count": 31,
     "metadata": {},
     "output_type": "execute_result"
    }
   ],
   "source": [
    "tfidf_matrix"
   ]
  },
  {
   "cell_type": "markdown",
   "id": "6c1a9445-278b-488a-9c00-76bfe64b76cb",
   "metadata": {},
   "source": [
    "#### Similarity Calculation\n",
    "Calculate the cosine similarity between the movie descriptions to determine how similar they are. Use the cosine similarity function from sklearn:"
   ]
  },
  {
   "cell_type": "code",
   "execution_count": 33,
   "id": "3404e545-61e1-4941-8756-55ba35745afc",
   "metadata": {},
   "outputs": [],
   "source": [
    "from sklearn.metrics.pairwise import cosine_similarity\n",
    "\n",
    "# Calculate cosine similarity\n",
    "cosine_sim = cosine_similarity(tfidf_matrix, tfidf_matrix)\n",
    "\n",
    "# Create a DataFrame for easy access\n",
    "sim_df = pd.DataFrame(cosine_sim, index=netflix_data['title'], columns=netflix_data['title'])"
   ]
  },
  {
   "cell_type": "code",
   "execution_count": 12,
   "id": "af7d0479-2dc5-4114-b7a3-977d6734bb71",
   "metadata": {},
   "outputs": [
    {
     "data": {
      "text/html": [
       "<div>\n",
       "<style scoped>\n",
       "    .dataframe tbody tr th:only-of-type {\n",
       "        vertical-align: middle;\n",
       "    }\n",
       "\n",
       "    .dataframe tbody tr th {\n",
       "        vertical-align: top;\n",
       "    }\n",
       "\n",
       "    .dataframe thead th {\n",
       "        text-align: right;\n",
       "    }\n",
       "</style>\n",
       "<table border=\"1\" class=\"dataframe\">\n",
       "  <thead>\n",
       "    <tr style=\"text-align: right;\">\n",
       "      <th>title</th>\n",
       "      <th>Dick Johnson Is Dead</th>\n",
       "      <th>Blood &amp; Water</th>\n",
       "      <th>Ganglands</th>\n",
       "      <th>Jailbirds New Orleans</th>\n",
       "      <th>Kota Factory</th>\n",
       "      <th>Midnight Mass</th>\n",
       "      <th>My Little Pony: A New Generation</th>\n",
       "      <th>Sankofa</th>\n",
       "      <th>The Great British Baking Show</th>\n",
       "      <th>The Starling</th>\n",
       "      <th>...</th>\n",
       "      <th>Zak Storm</th>\n",
       "      <th>Zed Plus</th>\n",
       "      <th>Zenda</th>\n",
       "      <th>Zindagi Gulzar Hai</th>\n",
       "      <th>Zinzana</th>\n",
       "      <th>Zodiac</th>\n",
       "      <th>Zombie Dumb</th>\n",
       "      <th>Zombieland</th>\n",
       "      <th>Zoom</th>\n",
       "      <th>Zubaan</th>\n",
       "    </tr>\n",
       "    <tr>\n",
       "      <th>title</th>\n",
       "      <th></th>\n",
       "      <th></th>\n",
       "      <th></th>\n",
       "      <th></th>\n",
       "      <th></th>\n",
       "      <th></th>\n",
       "      <th></th>\n",
       "      <th></th>\n",
       "      <th></th>\n",
       "      <th></th>\n",
       "      <th></th>\n",
       "      <th></th>\n",
       "      <th></th>\n",
       "      <th></th>\n",
       "      <th></th>\n",
       "      <th></th>\n",
       "      <th></th>\n",
       "      <th></th>\n",
       "      <th></th>\n",
       "      <th></th>\n",
       "      <th></th>\n",
       "    </tr>\n",
       "  </thead>\n",
       "  <tbody>\n",
       "    <tr>\n",
       "      <th>Dick Johnson Is Dead</th>\n",
       "      <td>1.000000</td>\n",
       "      <td>0.000000</td>\n",
       "      <td>0.000000</td>\n",
       "      <td>0.000000</td>\n",
       "      <td>0.015736</td>\n",
       "      <td>0.000000</td>\n",
       "      <td>0.000000</td>\n",
       "      <td>0.000000</td>\n",
       "      <td>0.038962</td>\n",
       "      <td>0.016931</td>\n",
       "      <td>...</td>\n",
       "      <td>0.000000</td>\n",
       "      <td>0.000000</td>\n",
       "      <td>0.000000</td>\n",
       "      <td>0.000000</td>\n",
       "      <td>0.0</td>\n",
       "      <td>0.000000</td>\n",
       "      <td>0.000000</td>\n",
       "      <td>0.000000</td>\n",
       "      <td>0.015586</td>\n",
       "      <td>0.000000</td>\n",
       "    </tr>\n",
       "    <tr>\n",
       "      <th>Blood &amp; Water</th>\n",
       "      <td>0.000000</td>\n",
       "      <td>1.000000</td>\n",
       "      <td>0.000000</td>\n",
       "      <td>0.000000</td>\n",
       "      <td>0.000000</td>\n",
       "      <td>0.032009</td>\n",
       "      <td>0.047825</td>\n",
       "      <td>0.000000</td>\n",
       "      <td>0.000000</td>\n",
       "      <td>0.000000</td>\n",
       "      <td>...</td>\n",
       "      <td>0.031885</td>\n",
       "      <td>0.000000</td>\n",
       "      <td>0.055077</td>\n",
       "      <td>0.000000</td>\n",
       "      <td>0.0</td>\n",
       "      <td>0.000000</td>\n",
       "      <td>0.040914</td>\n",
       "      <td>0.000000</td>\n",
       "      <td>0.000000</td>\n",
       "      <td>0.000000</td>\n",
       "    </tr>\n",
       "    <tr>\n",
       "      <th>Ganglands</th>\n",
       "      <td>0.000000</td>\n",
       "      <td>0.000000</td>\n",
       "      <td>1.000000</td>\n",
       "      <td>0.000000</td>\n",
       "      <td>0.000000</td>\n",
       "      <td>0.000000</td>\n",
       "      <td>0.000000</td>\n",
       "      <td>0.000000</td>\n",
       "      <td>0.000000</td>\n",
       "      <td>0.000000</td>\n",
       "      <td>...</td>\n",
       "      <td>0.000000</td>\n",
       "      <td>0.000000</td>\n",
       "      <td>0.000000</td>\n",
       "      <td>0.000000</td>\n",
       "      <td>0.0</td>\n",
       "      <td>0.000000</td>\n",
       "      <td>0.000000</td>\n",
       "      <td>0.000000</td>\n",
       "      <td>0.000000</td>\n",
       "      <td>0.023118</td>\n",
       "    </tr>\n",
       "    <tr>\n",
       "      <th>Jailbirds New Orleans</th>\n",
       "      <td>0.000000</td>\n",
       "      <td>0.000000</td>\n",
       "      <td>0.000000</td>\n",
       "      <td>1.000000</td>\n",
       "      <td>0.000000</td>\n",
       "      <td>0.000000</td>\n",
       "      <td>0.000000</td>\n",
       "      <td>0.000000</td>\n",
       "      <td>0.000000</td>\n",
       "      <td>0.000000</td>\n",
       "      <td>...</td>\n",
       "      <td>0.000000</td>\n",
       "      <td>0.000000</td>\n",
       "      <td>0.000000</td>\n",
       "      <td>0.000000</td>\n",
       "      <td>0.0</td>\n",
       "      <td>0.000000</td>\n",
       "      <td>0.000000</td>\n",
       "      <td>0.000000</td>\n",
       "      <td>0.015316</td>\n",
       "      <td>0.000000</td>\n",
       "    </tr>\n",
       "    <tr>\n",
       "      <th>Kota Factory</th>\n",
       "      <td>0.015736</td>\n",
       "      <td>0.000000</td>\n",
       "      <td>0.000000</td>\n",
       "      <td>0.000000</td>\n",
       "      <td>1.000000</td>\n",
       "      <td>0.000000</td>\n",
       "      <td>0.000000</td>\n",
       "      <td>0.000000</td>\n",
       "      <td>0.000000</td>\n",
       "      <td>0.016148</td>\n",
       "      <td>...</td>\n",
       "      <td>0.000000</td>\n",
       "      <td>0.000000</td>\n",
       "      <td>0.000000</td>\n",
       "      <td>0.000000</td>\n",
       "      <td>0.0</td>\n",
       "      <td>0.000000</td>\n",
       "      <td>0.000000</td>\n",
       "      <td>0.035568</td>\n",
       "      <td>0.066989</td>\n",
       "      <td>0.000000</td>\n",
       "    </tr>\n",
       "    <tr>\n",
       "      <th>...</th>\n",
       "      <td>...</td>\n",
       "      <td>...</td>\n",
       "      <td>...</td>\n",
       "      <td>...</td>\n",
       "      <td>...</td>\n",
       "      <td>...</td>\n",
       "      <td>...</td>\n",
       "      <td>...</td>\n",
       "      <td>...</td>\n",
       "      <td>...</td>\n",
       "      <td>...</td>\n",
       "      <td>...</td>\n",
       "      <td>...</td>\n",
       "      <td>...</td>\n",
       "      <td>...</td>\n",
       "      <td>...</td>\n",
       "      <td>...</td>\n",
       "      <td>...</td>\n",
       "      <td>...</td>\n",
       "      <td>...</td>\n",
       "      <td>...</td>\n",
       "    </tr>\n",
       "    <tr>\n",
       "      <th>Zodiac</th>\n",
       "      <td>0.000000</td>\n",
       "      <td>0.000000</td>\n",
       "      <td>0.000000</td>\n",
       "      <td>0.000000</td>\n",
       "      <td>0.000000</td>\n",
       "      <td>0.000000</td>\n",
       "      <td>0.000000</td>\n",
       "      <td>0.000000</td>\n",
       "      <td>0.000000</td>\n",
       "      <td>0.000000</td>\n",
       "      <td>...</td>\n",
       "      <td>0.000000</td>\n",
       "      <td>0.044185</td>\n",
       "      <td>0.050935</td>\n",
       "      <td>0.000000</td>\n",
       "      <td>0.0</td>\n",
       "      <td>1.000000</td>\n",
       "      <td>0.000000</td>\n",
       "      <td>0.058604</td>\n",
       "      <td>0.000000</td>\n",
       "      <td>0.000000</td>\n",
       "    </tr>\n",
       "    <tr>\n",
       "      <th>Zombie Dumb</th>\n",
       "      <td>0.000000</td>\n",
       "      <td>0.040914</td>\n",
       "      <td>0.000000</td>\n",
       "      <td>0.000000</td>\n",
       "      <td>0.000000</td>\n",
       "      <td>0.054967</td>\n",
       "      <td>0.000000</td>\n",
       "      <td>0.000000</td>\n",
       "      <td>0.000000</td>\n",
       "      <td>0.000000</td>\n",
       "      <td>...</td>\n",
       "      <td>0.000000</td>\n",
       "      <td>0.000000</td>\n",
       "      <td>0.000000</td>\n",
       "      <td>0.000000</td>\n",
       "      <td>0.0</td>\n",
       "      <td>0.000000</td>\n",
       "      <td>1.000000</td>\n",
       "      <td>0.000000</td>\n",
       "      <td>0.000000</td>\n",
       "      <td>0.000000</td>\n",
       "    </tr>\n",
       "    <tr>\n",
       "      <th>Zombieland</th>\n",
       "      <td>0.000000</td>\n",
       "      <td>0.000000</td>\n",
       "      <td>0.000000</td>\n",
       "      <td>0.000000</td>\n",
       "      <td>0.035568</td>\n",
       "      <td>0.000000</td>\n",
       "      <td>0.000000</td>\n",
       "      <td>0.000000</td>\n",
       "      <td>0.000000</td>\n",
       "      <td>0.057871</td>\n",
       "      <td>...</td>\n",
       "      <td>0.000000</td>\n",
       "      <td>0.000000</td>\n",
       "      <td>0.000000</td>\n",
       "      <td>0.043503</td>\n",
       "      <td>0.0</td>\n",
       "      <td>0.058604</td>\n",
       "      <td>0.000000</td>\n",
       "      <td>1.000000</td>\n",
       "      <td>0.000000</td>\n",
       "      <td>0.000000</td>\n",
       "    </tr>\n",
       "    <tr>\n",
       "      <th>Zoom</th>\n",
       "      <td>0.015586</td>\n",
       "      <td>0.000000</td>\n",
       "      <td>0.000000</td>\n",
       "      <td>0.015316</td>\n",
       "      <td>0.066989</td>\n",
       "      <td>0.000000</td>\n",
       "      <td>0.000000</td>\n",
       "      <td>0.000000</td>\n",
       "      <td>0.000000</td>\n",
       "      <td>0.015993</td>\n",
       "      <td>...</td>\n",
       "      <td>0.000000</td>\n",
       "      <td>0.000000</td>\n",
       "      <td>0.000000</td>\n",
       "      <td>0.000000</td>\n",
       "      <td>0.0</td>\n",
       "      <td>0.000000</td>\n",
       "      <td>0.000000</td>\n",
       "      <td>0.000000</td>\n",
       "      <td>1.000000</td>\n",
       "      <td>0.000000</td>\n",
       "    </tr>\n",
       "    <tr>\n",
       "      <th>Zubaan</th>\n",
       "      <td>0.000000</td>\n",
       "      <td>0.000000</td>\n",
       "      <td>0.023118</td>\n",
       "      <td>0.000000</td>\n",
       "      <td>0.000000</td>\n",
       "      <td>0.000000</td>\n",
       "      <td>0.000000</td>\n",
       "      <td>0.034218</td>\n",
       "      <td>0.000000</td>\n",
       "      <td>0.040684</td>\n",
       "      <td>...</td>\n",
       "      <td>0.000000</td>\n",
       "      <td>0.000000</td>\n",
       "      <td>0.000000</td>\n",
       "      <td>0.000000</td>\n",
       "      <td>0.0</td>\n",
       "      <td>0.000000</td>\n",
       "      <td>0.000000</td>\n",
       "      <td>0.000000</td>\n",
       "      <td>0.000000</td>\n",
       "      <td>1.000000</td>\n",
       "    </tr>\n",
       "  </tbody>\n",
       "</table>\n",
       "<p>8807 rows × 8807 columns</p>\n",
       "</div>"
      ],
      "text/plain": [
       "title                  Dick Johnson Is Dead  Blood & Water  Ganglands  \\\n",
       "title                                                                   \n",
       "Dick Johnson Is Dead               1.000000       0.000000   0.000000   \n",
       "Blood & Water                      0.000000       1.000000   0.000000   \n",
       "Ganglands                          0.000000       0.000000   1.000000   \n",
       "Jailbirds New Orleans              0.000000       0.000000   0.000000   \n",
       "Kota Factory                       0.015736       0.000000   0.000000   \n",
       "...                                     ...            ...        ...   \n",
       "Zodiac                             0.000000       0.000000   0.000000   \n",
       "Zombie Dumb                        0.000000       0.040914   0.000000   \n",
       "Zombieland                         0.000000       0.000000   0.000000   \n",
       "Zoom                               0.015586       0.000000   0.000000   \n",
       "Zubaan                             0.000000       0.000000   0.023118   \n",
       "\n",
       "title                  Jailbirds New Orleans  Kota Factory  Midnight Mass  \\\n",
       "title                                                                       \n",
       "Dick Johnson Is Dead                0.000000      0.015736       0.000000   \n",
       "Blood & Water                       0.000000      0.000000       0.032009   \n",
       "Ganglands                           0.000000      0.000000       0.000000   \n",
       "Jailbirds New Orleans               1.000000      0.000000       0.000000   \n",
       "Kota Factory                        0.000000      1.000000       0.000000   \n",
       "...                                      ...           ...            ...   \n",
       "Zodiac                              0.000000      0.000000       0.000000   \n",
       "Zombie Dumb                         0.000000      0.000000       0.054967   \n",
       "Zombieland                          0.000000      0.035568       0.000000   \n",
       "Zoom                                0.015316      0.066989       0.000000   \n",
       "Zubaan                              0.000000      0.000000       0.000000   \n",
       "\n",
       "title                  My Little Pony: A New Generation   Sankofa  \\\n",
       "title                                                               \n",
       "Dick Johnson Is Dead                           0.000000  0.000000   \n",
       "Blood & Water                                  0.047825  0.000000   \n",
       "Ganglands                                      0.000000  0.000000   \n",
       "Jailbirds New Orleans                          0.000000  0.000000   \n",
       "Kota Factory                                   0.000000  0.000000   \n",
       "...                                                 ...       ...   \n",
       "Zodiac                                         0.000000  0.000000   \n",
       "Zombie Dumb                                    0.000000  0.000000   \n",
       "Zombieland                                     0.000000  0.000000   \n",
       "Zoom                                           0.000000  0.000000   \n",
       "Zubaan                                         0.000000  0.034218   \n",
       "\n",
       "title                  The Great British Baking Show  The Starling  ...  \\\n",
       "title                                                               ...   \n",
       "Dick Johnson Is Dead                        0.038962      0.016931  ...   \n",
       "Blood & Water                               0.000000      0.000000  ...   \n",
       "Ganglands                                   0.000000      0.000000  ...   \n",
       "Jailbirds New Orleans                       0.000000      0.000000  ...   \n",
       "Kota Factory                                0.000000      0.016148  ...   \n",
       "...                                              ...           ...  ...   \n",
       "Zodiac                                      0.000000      0.000000  ...   \n",
       "Zombie Dumb                                 0.000000      0.000000  ...   \n",
       "Zombieland                                  0.000000      0.057871  ...   \n",
       "Zoom                                        0.000000      0.015993  ...   \n",
       "Zubaan                                      0.000000      0.040684  ...   \n",
       "\n",
       "title                  Zak Storm  Zed Plus     Zenda  Zindagi Gulzar Hai  \\\n",
       "title                                                                      \n",
       "Dick Johnson Is Dead    0.000000  0.000000  0.000000            0.000000   \n",
       "Blood & Water           0.031885  0.000000  0.055077            0.000000   \n",
       "Ganglands               0.000000  0.000000  0.000000            0.000000   \n",
       "Jailbirds New Orleans   0.000000  0.000000  0.000000            0.000000   \n",
       "Kota Factory            0.000000  0.000000  0.000000            0.000000   \n",
       "...                          ...       ...       ...                 ...   \n",
       "Zodiac                  0.000000  0.044185  0.050935            0.000000   \n",
       "Zombie Dumb             0.000000  0.000000  0.000000            0.000000   \n",
       "Zombieland              0.000000  0.000000  0.000000            0.043503   \n",
       "Zoom                    0.000000  0.000000  0.000000            0.000000   \n",
       "Zubaan                  0.000000  0.000000  0.000000            0.000000   \n",
       "\n",
       "title                  Zinzana    Zodiac  Zombie Dumb  Zombieland      Zoom  \\\n",
       "title                                                                         \n",
       "Dick Johnson Is Dead       0.0  0.000000     0.000000    0.000000  0.015586   \n",
       "Blood & Water              0.0  0.000000     0.040914    0.000000  0.000000   \n",
       "Ganglands                  0.0  0.000000     0.000000    0.000000  0.000000   \n",
       "Jailbirds New Orleans      0.0  0.000000     0.000000    0.000000  0.015316   \n",
       "Kota Factory               0.0  0.000000     0.000000    0.035568  0.066989   \n",
       "...                        ...       ...          ...         ...       ...   \n",
       "Zodiac                     0.0  1.000000     0.000000    0.058604  0.000000   \n",
       "Zombie Dumb                0.0  0.000000     1.000000    0.000000  0.000000   \n",
       "Zombieland                 0.0  0.058604     0.000000    1.000000  0.000000   \n",
       "Zoom                       0.0  0.000000     0.000000    0.000000  1.000000   \n",
       "Zubaan                     0.0  0.000000     0.000000    0.000000  0.000000   \n",
       "\n",
       "title                    Zubaan  \n",
       "title                            \n",
       "Dick Johnson Is Dead   0.000000  \n",
       "Blood & Water          0.000000  \n",
       "Ganglands              0.023118  \n",
       "Jailbirds New Orleans  0.000000  \n",
       "Kota Factory           0.000000  \n",
       "...                         ...  \n",
       "Zodiac                 0.000000  \n",
       "Zombie Dumb            0.000000  \n",
       "Zombieland             0.000000  \n",
       "Zoom                   0.000000  \n",
       "Zubaan                 1.000000  \n",
       "\n",
       "[8807 rows x 8807 columns]"
      ]
     },
     "execution_count": 12,
     "metadata": {},
     "output_type": "execute_result"
    }
   ],
   "source": [
    "sim_df"
   ]
  },
  {
   "cell_type": "markdown",
   "id": "db2e5f65-b200-40bb-9c74-6fa4c2cf13ea",
   "metadata": {},
   "source": [
    "#### Finding Similar Movies\n",
    "Create a function to retrieve similar movies based on the cosine similarity matrix:"
   ]
  },
  {
   "cell_type": "code",
   "execution_count": 34,
   "id": "08a5136b-7fa0-4ef3-aab9-14c5d041f273",
   "metadata": {},
   "outputs": [
    {
     "name": "stdout",
     "output_type": "stream",
     "text": [
      "title\n",
      "The Nineties                                      0.190250\n",
      "Elizabeth and Margaret: Love and Loyalty          0.156474\n",
      "Suffragette                                       0.154582\n",
      "The Naked Gun: From the Files of Police Squad!    0.147015\n",
      "Nymphomaniac: Volume II                           0.146862\n",
      "Name: The Crown, dtype: float64\n"
     ]
    }
   ],
   "source": [
    "def get_similar_movies(title, sim_df, n=5):\n",
    "    # Get the pairwise similarity scores of all movies with that movie\n",
    "    similar_scores = sim_df[title]\n",
    "    # Sort the movies based on the scores\n",
    "    similar_movies = similar_scores.sort_values(ascending=False)[1:n+1]\n",
    "    return similar_movies\n",
    "\n",
    "# Example usage\n",
    "print(get_similar_movies('The Crown', sim_df))"
   ]
  },
  {
   "cell_type": "code",
   "execution_count": 35,
   "id": "efb23396-1f99-4a79-baa7-c714c99049bf",
   "metadata": {},
   "outputs": [
    {
     "data": {
      "text/plain": [
       "title\n",
       "Diablero       0.242570\n",
       "Legion         0.207147\n",
       "Here Alone     0.181611\n",
       "Taxi Driver    0.179780\n",
       "Bat Pat        0.162636\n",
       "Name: Zombie Dumb, dtype: float64"
      ]
     },
     "execution_count": 35,
     "metadata": {},
     "output_type": "execute_result"
    }
   ],
   "source": [
    "get_similar_movies('Zombie Dumb', sim_df)"
   ]
  },
  {
   "cell_type": "code",
   "execution_count": 36,
   "id": "5ea30ae7-3403-44d0-968e-127ffc289962",
   "metadata": {},
   "outputs": [
    {
     "data": {
      "text/plain": [
       "title\n",
       "Jaws: The Revenge    0.441479\n",
       "Jaws 2               0.439462\n",
       "Jaws 3               0.224974\n",
       "Maya Memsaab         0.156786\n",
       "In The Deep          0.154385\n",
       "Name: Jaws, dtype: float64"
      ]
     },
     "execution_count": 36,
     "metadata": {},
     "output_type": "execute_result"
    }
   ],
   "source": [
    "get_similar_movies('Jaws', sim_df)"
   ]
  },
  {
   "cell_type": "code",
   "execution_count": 37,
   "id": "e7ac989e-854f-4bd9-9575-9c057e86831f",
   "metadata": {},
   "outputs": [
    {
     "data": {
      "text/plain": [
       "title\n",
       "The Circle France    0.877428\n",
       "The Circle Brazil    0.411337\n",
       "Ink Master           0.133507\n",
       "21 Again             0.132898\n",
       "The Guild            0.126254\n",
       "Name: The Circle, dtype: float64"
      ]
     },
     "execution_count": 37,
     "metadata": {},
     "output_type": "execute_result"
    }
   ],
   "source": [
    "get_similar_movies('The Circle', sim_df)"
   ]
  },
  {
   "cell_type": "markdown",
   "id": "f2c7c07f-f174-49bb-882c-85a6e80322d5",
   "metadata": {},
   "source": [
    "Create function plot_similar_movies() - designed to visualize the similarity between a given movie and a set of other movies based on their cosine similarity scores, which is often used in recommendation systems or content-based filtering for finding similar items."
   ]
  },
  {
   "cell_type": "code",
   "execution_count": 39,
   "id": "0b8334f6-7197-4c4c-bfd1-b15e89c2bb24",
   "metadata": {},
   "outputs": [],
   "source": [
    "def plot_similar_movies(title, similar_movies):\n",
    "    plt.figure(figsize=(10, 5))\n",
    "    similar_movies.plot(kind='bar', color='skyblue')\n",
    "    plt.title(f'Similar Movies to {title}')\n",
    "    plt.xlabel('Movie Titles')\n",
    "    plt.ylabel('Cosine Similarity Score')\n",
    "    plt.xticks(rotation=45, ha='right')\n",
    "    plt.show()"
   ]
  },
  {
   "cell_type": "code",
   "execution_count": 40,
   "id": "8aa811be-311b-4585-9fd3-bfa48976e824",
   "metadata": {},
   "outputs": [
    {
     "data": {
      "image/png": "[encoded data removed]",
      "text/plain": [
       "<Figure size 1000x500 with 1 Axes>"
      ]
     },
     "metadata": {},
     "output_type": "display_data"
    }
   ],
   "source": [
    "similar_movies = get_similar_movies('The Crown', sim_df)\n",
    "plot_similar_movies('The Crown', similar_movies)"
   ]
  },
  {
   "cell_type": "code",
   "execution_count": 42,
   "id": "8ee246ba-0b02-4f03-b5ab-acf993a0096d",
   "metadata": {},
   "outputs": [
    {
     "data": {
      "image/png": "[encoded data removed]",
      "text/plain": [
       "<Figure size 1000x500 with 1 Axes>"
      ]
     },
     "metadata": {},
     "output_type": "display_data"
    }
   ],
   "source": [
    "similar_movies = get_similar_movies('Jaws', sim_df)\n",
    "plot_similar_movies('Jaws', similar_movies)"
   ]
  },
  {
   "cell_type": "code",
   "execution_count": 43,
   "id": "f7832d1a-4625-47bb-81b4-42d1d0c6ca28",
   "metadata": {},
   "outputs": [
    {
     "data": {
      "image/png": "[encoded data removed]",
      "text/plain": [
       "<Figure size 1000x500 with 1 Axes>"
      ]
     },
     "metadata": {},
     "output_type": "display_data"
    }
   ],
   "source": [
    "similar_movies = get_similar_movies('The Circle', sim_df)\n",
    "plot_similar_movies('The Circle', similar_movies)"
   ]
  },
  {
   "cell_type": "markdown",
   "id": "31609584-6918-4766-bc4a-1716e7c338d9",
   "metadata": {},
   "source": [
    "!TODO Evaluation\n",
    "Evaluate the model by checking the similarity of movies manually and see if the results make sense. Can also consider using metrics like precision and recall if  create a ground truth for testing.\n",
    "\n",
    "!TODO Deployment (Optional)\n",
    "If you want to take it a step further, consider deploying your model as a web application using Flask or Streamlit, allowing users to input a movie title and get similar movies as output."
   ]
  }
 ],
 "metadata": {
  "kernelspec": {
   "display_name": "Python 3 (ipykernel)",
   "language": "python",
   "name": "python3"
  },
  "language_info": {
   "codemirror_mode": {
    "name": "ipython",
    "version": 3
   },
   "file_extension": ".py",
   "mimetype": "text/x-python",
   "name": "python",
   "nbconvert_exporter": "python",
   "pygments_lexer": "ipython3",
   "version": "3.11.7"
  }
 },
 "nbformat": 4,
 "nbformat_minor": 5
}
